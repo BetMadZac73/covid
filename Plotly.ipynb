{
 "cells": [
  {
   "cell_type": "code",
   "execution_count": null,
   "id": "neutral-blackjack",
   "metadata": {},
   "outputs": [],
   "source": [
    "import pandas as pd\n",
    "import plotly.express as px\n",
    "import plotly.graph_objects as go\n",
    "\n",
    "df = pd.read_csv('https://github.com/owid/covid-19-data/raw/master/public/data/owid-covid-data.csv')\n",
    "# we have to change the date field to be datatime\n",
    "df['date'] = pd.to_datetime(df[\"date\"])"
   ]
  },
  {
   "cell_type": "code",
   "execution_count": null,
   "id": "structured-currency",
   "metadata": {},
   "outputs": [],
   "source": [
    "#df.columns"
   ]
  },
  {
   "cell_type": "code",
   "execution_count": null,
   "id": "driving-costs",
   "metadata": {
    "scrolled": false
   },
   "outputs": [],
   "source": [
    "country = 'GBR'\n",
    "data = df.query(f\"iso_code == '{country}'\")\n",
    "\n",
    "cats = {'new_cases_per_million':'blue',\n",
    "        'new_deaths_per_million':'green',\n",
    "        'hosp_patients_per_million': 'orange',\n",
    "        'icu_patients_per_million':'red'}\n",
    "\n",
    "html = open(f'{country}_COVID.html', 'w')\n",
    "\n",
    "for category, colour in cats.items():\n",
    "    fig = px.bar(data, x='date', y=category,\n",
    "                 color_discrete_sequence=[colour],\n",
    "                 title=f'{country} - {category}')\n",
    "\n",
    "    fig2 = px.scatter(data, x='date', y=category, \n",
    "                      color_discrete_sequence=['#000000'],\n",
    "                      trendline=\"rolling\", trendline_options=dict(window=7))\n",
    "    \n",
    "    fig.add_trace(fig2.data[1])\n",
    "    \n",
    "    # Add range slider\n",
    "    fig.update_layout(\n",
    "        xaxis=dict(\n",
    "            rangeselector=dict(\n",
    "                buttons=list([\n",
    "                    dict(count=14, label=\"fortnight\", step=\"day\", stepmode=\"backward\"),\n",
    "                    dict(count=1, label=\"1m\", step=\"month\", stepmode=\"backward\"),\n",
    "                    dict(count=6, label=\"6m\", step=\"month\", stepmode=\"backward\"),\n",
    "                    dict(count=1, label=\"YTD\", step=\"year\", stepmode=\"todate\"),\n",
    "                    dict(count=1, label=\"1y\", step=\"year\", stepmode=\"backward\"),\n",
    "                    dict(step=\"all\")\n",
    "                ])\n",
    "            ),\n",
    "            rangeslider=dict(visible=True), type=\"date\"\n",
    "        )\n",
    "    )\n",
    "    \n",
    "    \n",
    "    fig.show()\n",
    "    html.write(fig.to_html(full_html=False, include_plotlyjs='cdn'))\n",
    "    #fig2.show()\n",
    "\n",
    "html.close()"
   ]
  },
  {
   "cell_type": "code",
   "execution_count": null,
   "id": "middle-carol",
   "metadata": {},
   "outputs": [],
   "source": [
    "for key, val in cats.items():\n",
    "    print(f'Key : {key} \\n color: {val}')"
   ]
  },
  {
   "cell_type": "code",
   "execution_count": null,
   "id": "physical-sauce",
   "metadata": {},
   "outputs": [],
   "source": [
    "#data.excess_mortality\n",
    "\n",
    "fig = px.bar(data, x='date', y='excess_mortality')\n",
    "fig.show()\n"
   ]
  },
  {
   "cell_type": "code",
   "execution_count": null,
   "id": "moral-insured",
   "metadata": {},
   "outputs": [],
   "source": [
    "# !pip install --upgrade plotly"
   ]
  },
  {
   "cell_type": "code",
   "execution_count": null,
   "id": "rental-thanks",
   "metadata": {},
   "outputs": [],
   "source": [
    "df['date'] = pd.to_datetime(df[\"date\"])\n",
    "df.info()"
   ]
  },
  {
   "cell_type": "code",
   "execution_count": null,
   "id": "received-frame",
   "metadata": {},
   "outputs": [],
   "source": [
    "#fig = px.bar(data, x='date', y='total_cases', visibility='legendonly')\n",
    "\n",
    "f = open('GBR_all_data.html', 'w')\n",
    "\n",
    "fig = go.Figure()\n",
    "\n",
    "\n",
    "for col in data.columns[4:]:\n",
    "    print(f'Processing column: {col}')\n",
    "    fig.add_trace(go.Bar(\n",
    "        x=data.date, y=data[col], visible='legendonly',\n",
    "        name=col\n",
    "    ))\n",
    "    \n",
    "f.write(fig.to_html(full_html=False, include_plotlyjs='cdn'))\n",
    "f.close()"
   ]
  },
  {
   "cell_type": "code",
   "execution_count": null,
   "id": "indie-palace",
   "metadata": {},
   "outputs": [],
   "source": [
    "data.columns[4:]"
   ]
  },
  {
   "cell_type": "code",
   "execution_count": null,
   "id": "flush-bunch",
   "metadata": {},
   "outputs": [],
   "source": [
    "f = open('GBR_all_data.html', 'w')\n",
    "f.write(fig.to_html(full_html=False, include_plotlyjs='cdn'))\n",
    "f.close()"
   ]
  },
  {
   "cell_type": "code",
   "execution_count": null,
   "id": "casual-bolivia",
   "metadata": {},
   "outputs": [],
   "source": []
  }
 ],
 "metadata": {
  "kernelspec": {
   "display_name": "Python 3",
   "language": "python",
   "name": "python3"
  },
  "language_info": {
   "codemirror_mode": {
    "name": "ipython",
    "version": 3
   },
   "file_extension": ".py",
   "mimetype": "text/x-python",
   "name": "python",
   "nbconvert_exporter": "python",
   "pygments_lexer": "ipython3",
   "version": "3.8.3"
  }
 },
 "nbformat": 4,
 "nbformat_minor": 5
}
