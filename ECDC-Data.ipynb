{
 "cells": [
  {
   "cell_type": "code",
   "execution_count": null,
   "metadata": {
    "scrolled": true
   },
   "outputs": [],
   "source": [
    "# European Centre for Disease Control\n",
    "import pandas as pd\n",
    "import requests\n",
    "import matplotlib.pyplot as plt\n",
    "import datetime as dt\n",
    "ageData = dt.timedelta(hours=1, minutes=0)\n",
    "startTime = dt.datetime.now()\n",
    "\n",
    "try:\n",
    "    if dataStamp + ageData < dt.datetime.today():\n",
    "        load = True\n",
    "        print('Data will be reloaded')\n",
    "    else:\n",
    "        load = False\n",
    "        print('Data already loaded')\n",
    "except:\n",
    "    dataStamp = dt.datetime.today()\n",
    "    load = True\n",
    "\n",
    "if load:\n",
    "    # this is where we read the data from\n",
    "    print('Loading Data')\n",
    "    df = pd.read_csv(\"https://opendata.ecdc.europa.eu/covid19/casedistribution/csv\")\n",
    "    print('Data Loaded')"
   ]
  },
  {
   "cell_type": "code",
   "execution_count": null,
   "metadata": {
    "scrolled": true
   },
   "outputs": [],
   "source": [
    "# Load the function, issue default of United Kingdom\n",
    "\n",
    "def get_country(country = 'United_Kingdom'):\n",
    "    df1 = df.loc[df['countriesAndTerritories'] == country][['countriesAndTerritories', 'dateRep', 'cases', 'deaths']]    # Take just the columns we want\n",
    "    #df1['dateRep'] = pd.to_datetime(df['dateRep'])\n",
    "    df1['dateRep'] = df1.apply(lambda row: pd.to_datetime(row['dateRep'], dayfirst = True), axis=1)    # Convert the date string to valid date data\n",
    "    df1.sort_values(by = 'dateRep', inplace = True)    # Sort the data incase\n",
    "    df1['cases'] = df1['cases'].apply(lambda x: x if x > 0 else 0 )    # Some countries have dodgy negative values - set them to Zero\n",
    "    df1['cases_7_days'] = df1.iloc[:,2].rolling(window=7).mean()    # This adds the rolling 7 day average\n",
    "    df1['deaths'] = df1['deaths'].apply(lambda x: x if x > 0 else 0 )    # Some countries have dodgy negative values - set them to Zero\n",
    "    df1['deaths_7_days'] = df1.iloc[:,3].rolling(window=7).mean()    # add the 7 day rolling average\n",
    "    return df1    # Return the dataframe\n",
    "#df1 = get_country('Germany')\n",
    "#df1 = get_country()\n",
    "#df1[-30:]\n",
    "print('Function Loaded')"
   ]
  },
  {
   "cell_type": "code",
   "execution_count": null,
   "metadata": {
    "scrolled": false
   },
   "outputs": [],
   "source": [
    "i = 0    # counter for colors\n",
    "j = 1    # counter for colors\n",
    "w = 0.9    # width of bars\n",
    "d = 35    # number of days for the right hand charts\n",
    "\n",
    "dataTime = dataStamp.strftime(\"%d/%b/%Y, %H:%M:%S\")\n",
    "\n",
    "# Now we are going to loop through the list of countries and create 4 charts and an image file for each. \n",
    "for country in ['United_Kingdom', 'Germany', 'France', 'Spain', 'United_States_of_America',\n",
    "                'India', 'Ireland']:\n",
    "\n",
    "    df1 = get_country(country)    # Get the country data\n",
    "    plt.rcParams[\"figure.figsize\"] = (18,9)    # Create the Plot size\n",
    "    fig , ax = plt.subplots(2,2)    # Create the plot space\n",
    "\n",
    "    plt.subplot(221)    # position top left\n",
    "    plt.grid('on')    # turn on grid lines\n",
    "    plt.bar('dateRep', 'cases', color='C{}'.format(i%10), data=df1, width=w)    # Create the bar values for the daily data\n",
    "    plt.plot('dateRep', 'cases_7_days', color='C{}'.format(j%10), data=df1, linewidth=3)    # Draw the line on top\n",
    "    plt.title('{} - Cases all-time'.format(country))    # Set the title\n",
    "\n",
    "    plt.subplot(223)    # position bottom left\n",
    "    plt.grid('on')    # turn on grid lines\n",
    "    plt.bar('dateRep', 'deaths', color='C{}'.format((i)%10), data=df1, width=w)\n",
    "    plt.plot('dateRep', 'deaths_7_days', color='C{}'.format((j)%10), data=df1, linewidth=3)\n",
    "    plt.title('{} - Deaths all-time'.format(country))\n",
    "    \n",
    "    df1 = df1.loc[df1['dateRep'] > pd.to_datetime('today') - pd.offsets.DateOffset(days=d)]    # this cuts the last d days for more recent data view\n",
    "\n",
    "    plt.subplot(222)    # position top right\n",
    "    plt.grid('on')    # turn on grid lines\n",
    "    plt.bar('dateRep', 'cases', color='C{}'.format(i%10), data=df1, width=w)\n",
    "    plt.plot('dateRep', 'cases_7_days', color='C{}'.format(j%10), data=df1, linewidth=3)\n",
    "    plt.title('{} - Cases last {} days'.format(country, d))\n",
    "\n",
    "    plt.subplot(224)    # position bottom right\n",
    "    plt.grid('on')    # turn on grid lines\n",
    "    plt.bar('dateRep', 'deaths', color='C{}'.format((i)%10), data=df1, width=w)\n",
    "    plt.plot('dateRep', 'deaths_7_days', color='C{}'.format((j)%10), data=df1, linewidth=3)\n",
    "    plt.title('{} - Deaths last {} days'.format(country, d))\n",
    "    fig.legend(['7 day average', 'Daily'], fontsize=12, loc=8)    # set the legend on\n",
    "    fig.suptitle('{} - {}'.format(country,dataTime), fontsize=16)\n",
    "    i += 2    # move the color counter\n",
    "    j += 2    # move the color counter\n",
    "    plt.show()    # show the result\n",
    "    \n",
    "    fig.savefig('{}.png'.format(country))    # save the image file of the charts"
   ]
  },
  {
   "cell_type": "code",
   "execution_count": null,
   "metadata": {
    "scrolled": true
   },
   "outputs": [],
   "source": [
    "df1"
   ]
  },
  {
   "cell_type": "code",
   "execution_count": null,
   "metadata": {
    "scrolled": true
   },
   "outputs": [],
   "source": [
    "df1.loc[df1['dateRep'] > pd.to_datetime('today') - pd.offsets.DateOffset(days=60)]"
   ]
  },
  {
   "cell_type": "code",
   "execution_count": null,
   "metadata": {
    "scrolled": true
   },
   "outputs": [],
   "source": [
    "pd.offsets.DateOffset(days=60)"
   ]
  },
  {
   "cell_type": "code",
   "execution_count": null,
   "metadata": {
    "scrolled": true
   },
   "outputs": [],
   "source": [
    "pd.to_datetime('today') - pd.offsets.DateOffset(days=60)"
   ]
  },
  {
   "cell_type": "code",
   "execution_count": null,
   "metadata": {
    "scrolled": true
   },
   "outputs": [],
   "source": [
    "12%10"
   ]
  },
  {
   "cell_type": "code",
   "execution_count": null,
   "metadata": {},
   "outputs": [],
   "source": [
    "0%10"
   ]
  },
  {
   "cell_type": "code",
   "execution_count": null,
   "metadata": {},
   "outputs": [],
   "source": [
    "df1 = get_country()\n",
    "df1[-30:]"
   ]
  },
  {
   "cell_type": "code",
   "execution_count": null,
   "metadata": {
    "scrolled": true
   },
   "outputs": [],
   "source": [
    "lista = pd.unique(df[['countriesAndTerritories', 'popData2019']].values.ravel())\n",
    "for i in range(0, len(lista) - 1, 2):\n",
    "    print(lista[i:i+2])"
   ]
  },
  {
   "cell_type": "code",
   "execution_count": null,
   "metadata": {},
   "outputs": [],
   "source": [
    "len(lista)\n",
    "lista[0]"
   ]
  },
  {
   "cell_type": "code",
   "execution_count": null,
   "metadata": {},
   "outputs": [],
   "source": [
    "pd.unique(df['countriesAndTerritories'])"
   ]
  },
  {
   "cell_type": "code",
   "execution_count": null,
   "metadata": {},
   "outputs": [],
   "source": [
    "print(dataStamp.strftime(\"%d/%b/%Y, %H:%M:%S\"))"
   ]
  },
  {
   "cell_type": "code",
   "execution_count": null,
   "metadata": {},
   "outputs": [],
   "source": [
    "#(dt.datetime.now() - startTime).strftime('%M minutes, %S seconds')\n",
    "timeTaken = (dt.datetime.now() - startTime).total_seconds()\n",
    "print(\"Started : {} \\nEnded   : {}\\nTook    : {} minutes, {} seconds\".format(startTime, dt.datetime.now(), int(timeTaken // 60), int(timeTaken % 60)))"
   ]
  },
  {
   "cell_type": "code",
   "execution_count": null,
   "metadata": {},
   "outputs": [],
   "source": [
    "timeTaken / 60 \n",
    "int(timeTaken % 60)"
   ]
  },
  {
   "cell_type": "code",
   "execution_count": null,
   "metadata": {},
   "outputs": [],
   "source": []
  }
 ],
 "metadata": {
  "kernelspec": {
   "display_name": "Python 3",
   "language": "python",
   "name": "python3"
  },
  "language_info": {
   "codemirror_mode": {
    "name": "ipython",
    "version": 3
   },
   "file_extension": ".py",
   "mimetype": "text/x-python",
   "name": "python",
   "nbconvert_exporter": "python",
   "pygments_lexer": "ipython3",
   "version": "3.8.3"
  }
 },
 "nbformat": 4,
 "nbformat_minor": 4
}
