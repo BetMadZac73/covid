{
 "cells": [
  {
   "cell_type": "code",
   "execution_count": 1,
   "metadata": {
    "scrolled": true
   },
   "outputs": [
    {
     "name": "stdout",
     "output_type": "stream",
     "text": [
      "Loading Data\n",
      "Data Loaded\n"
     ]
    }
   ],
   "source": [
    "# European Centre for Disease Control\n",
    "import pandas as pd\n",
    "import requests\n",
    "import matplotlib.pyplot as plt\n",
    "import numpy as np\n",
    "import datetime as dt\n",
    "\n",
    "ageData = dt.timedelta(hours=1, minutes=0)\n",
    "startTime = dt.datetime.now()\n",
    "\n",
    "try:\n",
    "    if dataStamp + ageData < dt.datetime.today():\n",
    "        load = True\n",
    "        print('Data will be reloaded')\n",
    "    else:\n",
    "        load = False\n",
    "        print('Data already loaded')\n",
    "except:\n",
    "    load = True\n",
    "\n",
    "if load:\n",
    "    # this is where we read the data from\n",
    "    print('Loading Data')\n",
    "    df = pd.read_csv(\"https://opendata.ecdc.europa.eu/covid19/casedistribution/csv\")\n",
    "    print('Data Loaded')\n",
    "    dataStamp = dt.datetime.today()"
   ]
  },
  {
   "cell_type": "code",
   "execution_count": 2,
   "metadata": {
    "scrolled": true
   },
   "outputs": [
    {
     "name": "stdout",
     "output_type": "stream",
     "text": [
      "Function Loaded\n"
     ]
    }
   ],
   "source": [
    "# Load the function, issue default of United Kingdom\n",
    "\n",
    "def get_country(country = 'United_Kingdom'):\n",
    "    df1 = df.loc[df['countriesAndTerritories'] == country][['countriesAndTerritories', 'dateRep', 'cases', 'deaths']]    # Take just the columns we want\n",
    "    #df1['dateRep'] = pd.to_datetime(df['dateRep'])\n",
    "    df1['dateRep'] = df1.apply(lambda row: pd.to_datetime(row['dateRep'], dayfirst = True), axis=1)    # Convert the date string to valid date data\n",
    "    df1.sort_values(by = 'dateRep', inplace = True)    # Sort the data incase\n",
    "    df1['cases'] = df1['cases'].apply(lambda x: x if x > 0 else 0 )    # Some countries have dodgy negative values - set them to Zero\n",
    "    df1['cases_7_days'] = df1.iloc[:,2].rolling(window=7).mean()    # This adds the rolling 7 day average\n",
    "    df1['deaths'] = df1['deaths'].apply(lambda x: x if x > 0 else 0 )    # Some countries have dodgy negative values - set them to Zero\n",
    "    df1['deaths_7_days'] = df1.iloc[:,3].rolling(window=7).mean()    # add the 7 day rolling average\n",
    "    df1['cases_stdev'] = df1.iloc[:,2].rolling(window=21).std()    # get the standard deviation \n",
    "    df1['deaths_stdev'] = df1.iloc[:,3].rolling(window=21).std()    # get the standard deviation\n",
    "    return df1    # Return the dataframe\n",
    "#df1 = get_country('Germany')\n",
    "#df1 = get_country()\n",
    "#df1[-30:]\n",
    "print('Function Loaded')"
   ]
  },
  {
   "cell_type": "code",
   "execution_count": 3,
   "metadata": {
    "scrolled": false
   },
   "outputs": [
    {
     "ename": "KeyError",
     "evalue": "\"['deaths', 'cases'] not in index\"",
     "output_type": "error",
     "traceback": [
      "\u001b[1;31m---------------------------------------------------------------------------\u001b[0m",
      "\u001b[1;31mKeyError\u001b[0m                                  Traceback (most recent call last)",
      "\u001b[1;32m<ipython-input-3-f678ac248f9b>\u001b[0m in \u001b[0;36m<module>\u001b[1;34m\u001b[0m\n\u001b[0;32m     11\u001b[0m                 'India', 'Ireland']:\n\u001b[0;32m     12\u001b[0m \u001b[1;33m\u001b[0m\u001b[0m\n\u001b[1;32m---> 13\u001b[1;33m     \u001b[0mdf1\u001b[0m \u001b[1;33m=\u001b[0m \u001b[0mget_country\u001b[0m\u001b[1;33m(\u001b[0m\u001b[0mcountry\u001b[0m\u001b[1;33m)\u001b[0m    \u001b[1;31m# Get the country data\u001b[0m\u001b[1;33m\u001b[0m\u001b[1;33m\u001b[0m\u001b[0m\n\u001b[0m\u001b[0;32m     14\u001b[0m     \u001b[0mplt\u001b[0m\u001b[1;33m.\u001b[0m\u001b[0mrcParams\u001b[0m\u001b[1;33m[\u001b[0m\u001b[1;34m\"figure.figsize\"\u001b[0m\u001b[1;33m]\u001b[0m \u001b[1;33m=\u001b[0m \u001b[1;33m(\u001b[0m\u001b[1;36m18\u001b[0m\u001b[1;33m,\u001b[0m\u001b[1;36m9\u001b[0m\u001b[1;33m)\u001b[0m    \u001b[1;31m# Create the Plot size\u001b[0m\u001b[1;33m\u001b[0m\u001b[1;33m\u001b[0m\u001b[0m\n\u001b[0;32m     15\u001b[0m     \u001b[0mfig\u001b[0m \u001b[1;33m,\u001b[0m \u001b[0max\u001b[0m \u001b[1;33m=\u001b[0m \u001b[0mplt\u001b[0m\u001b[1;33m.\u001b[0m\u001b[0msubplots\u001b[0m\u001b[1;33m(\u001b[0m\u001b[1;36m2\u001b[0m\u001b[1;33m,\u001b[0m\u001b[1;36m2\u001b[0m\u001b[1;33m)\u001b[0m    \u001b[1;31m# Create the plot space\u001b[0m\u001b[1;33m\u001b[0m\u001b[1;33m\u001b[0m\u001b[0m\n",
      "\u001b[1;32m<ipython-input-2-8aaf30ce2f9a>\u001b[0m in \u001b[0;36mget_country\u001b[1;34m(country)\u001b[0m\n\u001b[0;32m      2\u001b[0m \u001b[1;33m\u001b[0m\u001b[0m\n\u001b[0;32m      3\u001b[0m \u001b[1;32mdef\u001b[0m \u001b[0mget_country\u001b[0m\u001b[1;33m(\u001b[0m\u001b[0mcountry\u001b[0m \u001b[1;33m=\u001b[0m \u001b[1;34m'United_Kingdom'\u001b[0m\u001b[1;33m)\u001b[0m\u001b[1;33m:\u001b[0m\u001b[1;33m\u001b[0m\u001b[1;33m\u001b[0m\u001b[0m\n\u001b[1;32m----> 4\u001b[1;33m     \u001b[0mdf1\u001b[0m \u001b[1;33m=\u001b[0m \u001b[0mdf\u001b[0m\u001b[1;33m.\u001b[0m\u001b[0mloc\u001b[0m\u001b[1;33m[\u001b[0m\u001b[0mdf\u001b[0m\u001b[1;33m[\u001b[0m\u001b[1;34m'countriesAndTerritories'\u001b[0m\u001b[1;33m]\u001b[0m \u001b[1;33m==\u001b[0m \u001b[0mcountry\u001b[0m\u001b[1;33m]\u001b[0m\u001b[1;33m[\u001b[0m\u001b[1;33m[\u001b[0m\u001b[1;34m'countriesAndTerritories'\u001b[0m\u001b[1;33m,\u001b[0m \u001b[1;34m'dateRep'\u001b[0m\u001b[1;33m,\u001b[0m \u001b[1;34m'cases'\u001b[0m\u001b[1;33m,\u001b[0m \u001b[1;34m'deaths'\u001b[0m\u001b[1;33m]\u001b[0m\u001b[1;33m]\u001b[0m    \u001b[1;31m# Take just the columns we want\u001b[0m\u001b[1;33m\u001b[0m\u001b[1;33m\u001b[0m\u001b[0m\n\u001b[0m\u001b[0;32m      5\u001b[0m     \u001b[1;31m#df1['dateRep'] = pd.to_datetime(df['dateRep'])\u001b[0m\u001b[1;33m\u001b[0m\u001b[1;33m\u001b[0m\u001b[1;33m\u001b[0m\u001b[0m\n\u001b[0;32m      6\u001b[0m     \u001b[0mdf1\u001b[0m\u001b[1;33m[\u001b[0m\u001b[1;34m'dateRep'\u001b[0m\u001b[1;33m]\u001b[0m \u001b[1;33m=\u001b[0m \u001b[0mdf1\u001b[0m\u001b[1;33m.\u001b[0m\u001b[0mapply\u001b[0m\u001b[1;33m(\u001b[0m\u001b[1;32mlambda\u001b[0m \u001b[0mrow\u001b[0m\u001b[1;33m:\u001b[0m \u001b[0mpd\u001b[0m\u001b[1;33m.\u001b[0m\u001b[0mto_datetime\u001b[0m\u001b[1;33m(\u001b[0m\u001b[0mrow\u001b[0m\u001b[1;33m[\u001b[0m\u001b[1;34m'dateRep'\u001b[0m\u001b[1;33m]\u001b[0m\u001b[1;33m,\u001b[0m \u001b[0mdayfirst\u001b[0m \u001b[1;33m=\u001b[0m \u001b[1;32mTrue\u001b[0m\u001b[1;33m)\u001b[0m\u001b[1;33m,\u001b[0m \u001b[0maxis\u001b[0m\u001b[1;33m=\u001b[0m\u001b[1;36m1\u001b[0m\u001b[1;33m)\u001b[0m    \u001b[1;31m# Convert the date string to valid date data\u001b[0m\u001b[1;33m\u001b[0m\u001b[1;33m\u001b[0m\u001b[0m\n",
      "\u001b[1;32m~\\anaconda3\\lib\\site-packages\\pandas\\core\\frame.py\u001b[0m in \u001b[0;36m__getitem__\u001b[1;34m(self, key)\u001b[0m\n\u001b[0;32m   2804\u001b[0m             \u001b[1;32mif\u001b[0m \u001b[0mis_iterator\u001b[0m\u001b[1;33m(\u001b[0m\u001b[0mkey\u001b[0m\u001b[1;33m)\u001b[0m\u001b[1;33m:\u001b[0m\u001b[1;33m\u001b[0m\u001b[1;33m\u001b[0m\u001b[0m\n\u001b[0;32m   2805\u001b[0m                 \u001b[0mkey\u001b[0m \u001b[1;33m=\u001b[0m \u001b[0mlist\u001b[0m\u001b[1;33m(\u001b[0m\u001b[0mkey\u001b[0m\u001b[1;33m)\u001b[0m\u001b[1;33m\u001b[0m\u001b[1;33m\u001b[0m\u001b[0m\n\u001b[1;32m-> 2806\u001b[1;33m             \u001b[0mindexer\u001b[0m \u001b[1;33m=\u001b[0m \u001b[0mself\u001b[0m\u001b[1;33m.\u001b[0m\u001b[0mloc\u001b[0m\u001b[1;33m.\u001b[0m\u001b[0m_get_listlike_indexer\u001b[0m\u001b[1;33m(\u001b[0m\u001b[0mkey\u001b[0m\u001b[1;33m,\u001b[0m \u001b[0maxis\u001b[0m\u001b[1;33m=\u001b[0m\u001b[1;36m1\u001b[0m\u001b[1;33m,\u001b[0m \u001b[0mraise_missing\u001b[0m\u001b[1;33m=\u001b[0m\u001b[1;32mTrue\u001b[0m\u001b[1;33m)\u001b[0m\u001b[1;33m[\u001b[0m\u001b[1;36m1\u001b[0m\u001b[1;33m]\u001b[0m\u001b[1;33m\u001b[0m\u001b[1;33m\u001b[0m\u001b[0m\n\u001b[0m\u001b[0;32m   2807\u001b[0m \u001b[1;33m\u001b[0m\u001b[0m\n\u001b[0;32m   2808\u001b[0m         \u001b[1;31m# take() does not accept boolean indexers\u001b[0m\u001b[1;33m\u001b[0m\u001b[1;33m\u001b[0m\u001b[1;33m\u001b[0m\u001b[0m\n",
      "\u001b[1;32m~\\anaconda3\\lib\\site-packages\\pandas\\core\\indexing.py\u001b[0m in \u001b[0;36m_get_listlike_indexer\u001b[1;34m(self, key, axis, raise_missing)\u001b[0m\n\u001b[0;32m   1550\u001b[0m             \u001b[0mkeyarr\u001b[0m\u001b[1;33m,\u001b[0m \u001b[0mindexer\u001b[0m\u001b[1;33m,\u001b[0m \u001b[0mnew_indexer\u001b[0m \u001b[1;33m=\u001b[0m \u001b[0max\u001b[0m\u001b[1;33m.\u001b[0m\u001b[0m_reindex_non_unique\u001b[0m\u001b[1;33m(\u001b[0m\u001b[0mkeyarr\u001b[0m\u001b[1;33m)\u001b[0m\u001b[1;33m\u001b[0m\u001b[1;33m\u001b[0m\u001b[0m\n\u001b[0;32m   1551\u001b[0m \u001b[1;33m\u001b[0m\u001b[0m\n\u001b[1;32m-> 1552\u001b[1;33m         self._validate_read_indexer(\n\u001b[0m\u001b[0;32m   1553\u001b[0m             \u001b[0mkeyarr\u001b[0m\u001b[1;33m,\u001b[0m \u001b[0mindexer\u001b[0m\u001b[1;33m,\u001b[0m \u001b[0mo\u001b[0m\u001b[1;33m.\u001b[0m\u001b[0m_get_axis_number\u001b[0m\u001b[1;33m(\u001b[0m\u001b[0maxis\u001b[0m\u001b[1;33m)\u001b[0m\u001b[1;33m,\u001b[0m \u001b[0mraise_missing\u001b[0m\u001b[1;33m=\u001b[0m\u001b[0mraise_missing\u001b[0m\u001b[1;33m\u001b[0m\u001b[1;33m\u001b[0m\u001b[0m\n\u001b[0;32m   1554\u001b[0m         )\n",
      "\u001b[1;32m~\\anaconda3\\lib\\site-packages\\pandas\\core\\indexing.py\u001b[0m in \u001b[0;36m_validate_read_indexer\u001b[1;34m(self, key, indexer, axis, raise_missing)\u001b[0m\n\u001b[0;32m   1644\u001b[0m             \u001b[1;32mif\u001b[0m \u001b[1;32mnot\u001b[0m \u001b[1;33m(\u001b[0m\u001b[0mself\u001b[0m\u001b[1;33m.\u001b[0m\u001b[0mname\u001b[0m \u001b[1;33m==\u001b[0m \u001b[1;34m\"loc\"\u001b[0m \u001b[1;32mand\u001b[0m \u001b[1;32mnot\u001b[0m \u001b[0mraise_missing\u001b[0m\u001b[1;33m)\u001b[0m\u001b[1;33m:\u001b[0m\u001b[1;33m\u001b[0m\u001b[1;33m\u001b[0m\u001b[0m\n\u001b[0;32m   1645\u001b[0m                 \u001b[0mnot_found\u001b[0m \u001b[1;33m=\u001b[0m \u001b[0mlist\u001b[0m\u001b[1;33m(\u001b[0m\u001b[0mset\u001b[0m\u001b[1;33m(\u001b[0m\u001b[0mkey\u001b[0m\u001b[1;33m)\u001b[0m \u001b[1;33m-\u001b[0m \u001b[0mset\u001b[0m\u001b[1;33m(\u001b[0m\u001b[0max\u001b[0m\u001b[1;33m)\u001b[0m\u001b[1;33m)\u001b[0m\u001b[1;33m\u001b[0m\u001b[1;33m\u001b[0m\u001b[0m\n\u001b[1;32m-> 1646\u001b[1;33m                 \u001b[1;32mraise\u001b[0m \u001b[0mKeyError\u001b[0m\u001b[1;33m(\u001b[0m\u001b[1;34mf\"{not_found} not in index\"\u001b[0m\u001b[1;33m)\u001b[0m\u001b[1;33m\u001b[0m\u001b[1;33m\u001b[0m\u001b[0m\n\u001b[0m\u001b[0;32m   1647\u001b[0m \u001b[1;33m\u001b[0m\u001b[0m\n\u001b[0;32m   1648\u001b[0m             \u001b[1;31m# we skip the warning on Categorical/Interval\u001b[0m\u001b[1;33m\u001b[0m\u001b[1;33m\u001b[0m\u001b[1;33m\u001b[0m\u001b[0m\n",
      "\u001b[1;31mKeyError\u001b[0m: \"['deaths', 'cases'] not in index\""
     ]
    }
   ],
   "source": [
    "i = 0    # counter for colors\n",
    "j = 1    # counter for colors\n",
    "w = 0.9    # width of bars\n",
    "d = 35    # number of days for the right hand charts\n",
    "xrot = 30    # number of degrees to rotatet eh xticks\n",
    "\n",
    "dataTime = dataStamp.strftime(\"%d/%b/%Y, %H:%M:%S\")\n",
    "\n",
    "# Now we are going to loop through the list of countries and create 4 charts and an image file for each. \n",
    "for country in ['United_Kingdom', 'Germany', 'France', 'Spain', 'United_States_of_America',\n",
    "                'India', 'Ireland']:\n",
    "\n",
    "    df1 = get_country(country)    # Get the country data\n",
    "    plt.rcParams[\"figure.figsize\"] = (18,9)    # Create the Plot size\n",
    "    fig , ax = plt.subplots(2,2)    # Create the plot space\n",
    "    plt.subplots_adjust(left=None, bottom=None, right=None, top=None, wspace=None, hspace=0.35) # add horizontal spacing\n",
    "\n",
    "    plt.subplot(221)    # position top left\n",
    "    plt.grid('on')    # turn on grid lines\n",
    "    plt.xticks(rotation=xrot)    # rotate the xticks values to make them readable\n",
    "    plt.bar('dateRep', 'cases', color='C{}'.format(i%10), data=df1, width=w)    # Create the bar values for the daily data\n",
    "    plt.plot('dateRep', 'cases_7_days', color='C{}'.format(j%10), data=df1, linewidth=3)    # Draw the line on top\n",
    "    plt.title('{} - Cases all-time'.format(country))    # Set the title\n",
    "    \n",
    "    plt.subplot(223)    # position bottom left\n",
    "    plt.grid('on')    # turn on grid lines\n",
    "    plt.xticks(rotation=xrot)    # rotate the xticks values to make them readable\n",
    "    plt.bar('dateRep', 'deaths', color='C{}'.format((i)%10), data=df1, width=w)\n",
    "    plt.plot('dateRep', 'deaths_7_days', color='C{}'.format((j)%10), data=df1, linewidth=3)\n",
    "    plt.title('{} - Deaths all-time'.format(country))\n",
    "    \n",
    "    df1 = df1.loc[df1['dateRep'] > pd.to_datetime('today') - pd.offsets.DateOffset(days=d)]    # this cuts the last d days for more recent data view\n",
    "    x = []    # create an empty list for the x values\n",
    "    for day in df1.dateRep.tolist():    # now for each one convert the timestamp to a string\n",
    "        x.append(day.strftime('%b-%d'))    # string formatting\n",
    "\n",
    "    plt.subplot(222)    # position top right\n",
    "    plt.grid('on')    # turn on grid lines\n",
    "\n",
    "    y1 = df1.cases.tolist()    # set the Y values\n",
    "    y2 = df1.cases_7_days.tolist()    # set the Y values\n",
    "    ystd = df1.cases_stdev.tolist()    # set the error marging the standard deviation value\n",
    "\n",
    "    plt.bar(x,y1, color='C{}'.format((i)%10), width=w, yerr=ystd)    # plot the x and y1, with color and width\n",
    "    plt.xticks(x[::3], rotation=30)    # Show ticks every 3 days\n",
    "    plt.plot(x,y2, color='C{}'.format((j)%10), linewidth=3)    # plot the x and y2, with color and line thickness\n",
    "    plt.title('{} - Cases last {} days'.format(country, d))\n",
    "\n",
    "    plt.subplot(224)    # position bottom right\n",
    "    plt.grid('on')    # turn on grid lines\n",
    " \n",
    "    y1 = df1.deaths.tolist()    # set the Y values\n",
    "    y2 = df1.deaths_7_days.tolist()    # set the Y values\n",
    "    ystd = df1.deaths_stdev.tolist()    # set the error marging the standard deviation value\n",
    "\n",
    "    plt.bar(x,y1, color='C{}'.format((i)%10), width=w, yerr=ystd)    # plot the x and y1, with color and width\n",
    "    plt.xticks(x[::3], rotation=30)    # Show ticks every 3 days\n",
    "    plt.plot(x,y2, color='C{}'.format((j)%10), linewidth=3)    # plot the x and y2, with color and line thickness\n",
    "    plt.title('{} - Deaths last {} days'.format(country, d))    # set the title\n",
    "    \n",
    "    fig.legend(['7 day average', 'Daily'], fontsize=12, loc=8)    # set the legend on\n",
    "    fig.suptitle('{} - {}'.format(country,dataTime), fontsize=16)\n",
    "    i += 2    # move the color counter\n",
    "    j += 2    # move the color counter\n",
    "    plt.show()    # show the result\n",
    "    \n",
    "    fig.savefig('{}.png'.format(country))    # save the image file of the charts"
   ]
  },
  {
   "cell_type": "code",
   "execution_count": null,
   "metadata": {
    "scrolled": true
   },
   "outputs": [],
   "source": [
    "x\n",
    "dates = []\n",
    "for day in df1.dateRep[::3]:\n",
    "#    print(day.strftime('%Y-%b-%d'))\n",
    "    dates.append(day.strftime('%Y-%b-%d'))\n",
    "dates\n",
    "x"
   ]
  },
  {
   "cell_type": "code",
   "execution_count": null,
   "metadata": {
    "scrolled": false
   },
   "outputs": [],
   "source": [
    "plt.rcParams[\"figure.figsize\"] = (16,6)    # Create the Plot size\n",
    "#plt.grid('on')    # turn on grid lines\n",
    "#plt.xticks(rotation=xrot)    # rotate the xticks values to make them readable\n",
    "plt.bar('dateRep', 'deaths', color='C{}'.format((i)%10), data=df1, width=w)\n",
    "#plt.plot('dateRep', 'deaths_7_days', color='C{}'.format((j)%10), data=df1, linewidth=3)\n",
    "#plt.xticks(np.arange(plt.xlim()[0], plt.xlim()[1], 5))\n",
    "plt.title('{} - Deaths last {} days'.format(country, d))#\n",
    "plt.show()"
   ]
  },
  {
   "cell_type": "code",
   "execution_count": null,
   "metadata": {
    "scrolled": true
   },
   "outputs": [],
   "source": [
    "x = df1.dateRep.tolist()\n",
    "y1 = df1.deaths.tolist()\n",
    "y2 = df1.deaths_7_days.tolist()\n",
    "\n",
    "plt.bar(x,y1)\n",
    "plt.xticks(x[::3], rotation=30)\n",
    "plt.plot(x,y2)\n",
    "plt.show\n"
   ]
  },
  {
   "cell_type": "code",
   "execution_count": null,
   "metadata": {},
   "outputs": [],
   "source": [
    "y2"
   ]
  },
  {
   "cell_type": "code",
   "execution_count": null,
   "metadata": {
    "scrolled": true
   },
   "outputs": [],
   "source": [
    "pd.to_datetime('today') - pd.offsets.DateOffset(days=60)"
   ]
  },
  {
   "cell_type": "code",
   "execution_count": null,
   "metadata": {
    "scrolled": true
   },
   "outputs": [],
   "source": [
    "df1"
   ]
  },
  {
   "cell_type": "code",
   "execution_count": null,
   "metadata": {},
   "outputs": [],
   "source": [
    "0%10"
   ]
  },
  {
   "cell_type": "code",
   "execution_count": null,
   "metadata": {},
   "outputs": [],
   "source": [
    "df1 = get_country()\n",
    "df1[-30:]"
   ]
  },
  {
   "cell_type": "code",
   "execution_count": null,
   "metadata": {
    "scrolled": true
   },
   "outputs": [],
   "source": [
    "lista = pd.unique(df[['countriesAndTerritories', 'popData2019']].values.ravel())\n",
    "for i in range(0, len(lista) - 1, 2):\n",
    "    print(lista[i:i+2])"
   ]
  },
  {
   "cell_type": "code",
   "execution_count": null,
   "metadata": {},
   "outputs": [],
   "source": [
    "len(lista)\n",
    "lista[0]"
   ]
  },
  {
   "cell_type": "code",
   "execution_count": null,
   "metadata": {},
   "outputs": [],
   "source": [
    "pd.unique(df['countriesAndTerritories'])"
   ]
  },
  {
   "cell_type": "code",
   "execution_count": null,
   "metadata": {},
   "outputs": [],
   "source": [
    "print(dataStamp.strftime(\"%d/%b/%Y, %H:%M:%S\"))"
   ]
  },
  {
   "cell_type": "code",
   "execution_count": null,
   "metadata": {},
   "outputs": [],
   "source": [
    "#(dt.datetime.now() - startTime).strftime('%M minutes, %S seconds')\n",
    "timeTaken = (dt.datetime.now() - startTime).total_seconds()\n",
    "print(\"Started : {} \\nEnded   : {}\\nTook    : {} minutes, {} seconds\".format(startTime, dt.datetime.now(), int(timeTaken // 60), int(timeTaken % 60)))"
   ]
  },
  {
   "cell_type": "code",
   "execution_count": null,
   "metadata": {},
   "outputs": [],
   "source": [
    "timeTaken / 60 \n",
    "int(timeTaken % 60)"
   ]
  },
  {
   "cell_type": "code",
   "execution_count": null,
   "metadata": {},
   "outputs": [],
   "source": [
    "#np.arange(df1.dateRep)\n",
    "df1"
   ]
  },
  {
   "cell_type": "code",
   "execution_count": 5,
   "metadata": {},
   "outputs": [
    {
     "data": {
      "text/plain": [
       "Index(['dateRep', 'year_week', 'cases_weekly', 'deaths_weekly',\n",
       "       'countriesAndTerritories', 'geoId', 'countryterritoryCode',\n",
       "       'popData2019', 'continentExp',\n",
       "       'notification_rate_per_100000_population_14-days'],\n",
       "      dtype='object')"
      ]
     },
     "execution_count": 5,
     "metadata": {},
     "output_type": "execute_result"
    }
   ],
   "source": [
    "df.columns"
   ]
  },
  {
   "cell_type": "code",
   "execution_count": null,
   "metadata": {},
   "outputs": [],
   "source": []
  }
 ],
 "metadata": {
  "kernelspec": {
   "display_name": "Python 3",
   "language": "python",
   "name": "python3"
  },
  "language_info": {
   "codemirror_mode": {
    "name": "ipython",
    "version": 3
   },
   "file_extension": ".py",
   "mimetype": "text/x-python",
   "name": "python",
   "nbconvert_exporter": "python",
   "pygments_lexer": "ipython3",
   "version": "3.8.3"
  }
 },
 "nbformat": 4,
 "nbformat_minor": 4
}
