{
 "cells": [
  {
   "cell_type": "markdown",
   "id": "inappropriate-final",
   "metadata": {},
   "source": [
    "# Ok so first off let's check that Jupyter is working\n",
    "- run the Cell below by clicking in it and choosing Run from the tool bar\n",
    "- It is going to do a standard \"Hellow World!\" which just tests that Python and Jupyter are working\n",
    "- When you run it, it will print the message immediately below the cell"
   ]
  },
  {
   "cell_type": "code",
   "execution_count": null,
   "id": "mysterious-bracket",
   "metadata": {},
   "outputs": [],
   "source": [
    "print(\"Hello World!\")"
   ]
  },
  {
   "cell_type": "markdown",
   "id": "happy-virus",
   "metadata": {},
   "source": [
    "# Ok so now a little loop\n",
    "- run the cell below"
   ]
  },
  {
   "cell_type": "code",
   "execution_count": null,
   "id": "medical-burst",
   "metadata": {},
   "outputs": [],
   "source": [
    "for i in range(10,-1,-1):\n",
    "    print(f\"...{i}\")"
   ]
  },
  {
   "cell_type": "markdown",
   "id": "beginning-withdrawal",
   "metadata": {},
   "source": [
    "# When running programs in Jupyter with Python we will need to \n",
    "# load some modules that contain the functionality we want\n",
    "- run the below to import <b> pandas, datetime and plotly </b> \n",
    "- if you get a message like \n",
    "<font color='red'><b>ModuleNotFOundError: </b></font> No module named 'pandas' \n",
    "- you will need to install it by removing the '#' infront of <b>#!pip install pandas</b> or whichever module is not found\n",
    "- then rerun. once you have installed the mdoule you cna put th e'#' back in place as yoo do not need to install this again."
   ]
  },
  {
   "cell_type": "code",
   "execution_count": null,
   "id": "amber-switch",
   "metadata": {},
   "outputs": [],
   "source": [
    "#!pip install pandas\n",
    "import pandas as pd\n",
    "import datetime as dt\n",
    "#!pip instlal plotly\n",
    "import plotly.graph_objects as go\n",
    "import plotly.express as px"
   ]
  },
  {
   "cell_type": "markdown",
   "id": "better-guinea",
   "metadata": {},
   "source": [
    "# Now we are going to test that Plotly is working, by fetching some \n",
    "# data from the internet and creating a Chart.\n",
    "- run the cell below\n",
    "- see the comments which are after the '#' this is explaining what the code is doing\n",
    "- This will take less than a minute to fetch the data form the web\n",
    "- The Graph will display inline below the code cell."
   ]
  },
  {
   "cell_type": "code",
   "execution_count": null,
   "id": "finite-yacht",
   "metadata": {},
   "outputs": [],
   "source": [
    "# Download the 'our wolrd data' from the internet and create the DataFrame called    df   \n",
    "df = pd.read_csv('https://github.com/owid/covid-19-data/raw/master/public/data/owid-covid-data.csv')\n",
    "\n",
    "# query the DataFrame to create a smaller set called data\n",
    "# = First query for dates since beginning of June 2021\n",
    "# - then also for COntinent Europe\n",
    "# - then only those countries with a population > 5million\n",
    "data = df.query('date > \"2021-06-00\" and continent == \"Europe\" and population >= 5000000')\n",
    "\n",
    "# Draw a Polar chart \n",
    "# - The radius is going to be 'new_cases' \n",
    "# - using the country(location) as the series\n",
    "# - and apply color to the dates\n",
    "# - pop a title on the chart\n",
    "fig = px.bar_polar(data, r=\"new_cases\", theta=\"location\",\n",
    "                   color=\"date\", \n",
    "                   template=\"plotly_dark\",\n",
    "                   title='new cases daily',\n",
    "                   color_discrete_sequence= px.colors.sequential.Plasma_r)\n",
    "# Display the Graph\n",
    "fig.show()"
   ]
  },
  {
   "cell_type": "markdown",
   "id": "ranging-cache",
   "metadata": {},
   "source": [
    "# Wow so we are showing a bunch of data on a chart but what does our data look like\n",
    "- run the cell below to learn a bit more about the data"
   ]
  },
  {
   "cell_type": "code",
   "execution_count": null,
   "id": "civil-gospel",
   "metadata": {},
   "outputs": [],
   "source": [
    "# import display modules to enable formatting of output instead of just using print\n",
    "from IPython.display import Markdown, display, HTML\n",
    "\n",
    "# Display the first 50 rows of data in an HTML table\n",
    "display(Markdown(\"# <font color='blue'> First 50 rows of data </font>\"))\n",
    "display(HTML(data.head(50).to_html()))\n",
    "\n",
    "# Let's get some information about the data\n",
    "display(Markdown(\"# <font color='blue'> Information about the 'data' DataFrame </font>\"))\n",
    "display(Markdown(data.info()))\n",
    "\n",
    "# Let's Display the column names\n",
    "display(Markdown(\"# <font color='blue'> List of Columns </font>\"))\n",
    "display(Markdown(f\"{data.columns.to_list()}\"))\n",
    "\n",
    "# Let's Display the unique locations that are available\n",
    "display(Markdown(\"# <font color='blue'> List of Locations </font>\"))\n",
    "display(Markdown(\"### <font color='blue'> Remember we reduced this to Europe greater than 5-million pop</font>\"))\n",
    "display(Markdown(f\"{data.location.unique()}\"))\n",
    "\n"
   ]
  },
  {
   "cell_type": "markdown",
   "id": "younger-sperm",
   "metadata": {},
   "source": [
    "# OK I've got one more test for you.  Run the Cell below \n",
    "- This is going to rerunt he query against the df DataFrame\n",
    "- This is picking 8 countries from around the globe by putting them into the list called 'countries'\n",
    "- Then we query the df DataFrame so it picks just those countries  \n",
    "- #note to find all coutnries available - add a cell and run the following <b> df.location.unique() </b>\n",
    "-\n",
    "- create a figure called <b> fig </b> \n",
    "- Then for each country, add bar-graphs for the 5 variables\n",
    "- \n",
    "- Update the fig layout\n",
    "- show the figure\n",
    "- write out the html file to the same directory that this is notebook is in.\n",
    "\n",
    "## <font color='green'> Take note, you turn the series on and off by clicking on the legend ont he right </font>"
   ]
  },
  {
   "cell_type": "code",
   "execution_count": null,
   "id": "wrapped-lender",
   "metadata": {},
   "outputs": [],
   "source": [
    "# Set up a list of countries\n",
    "countries = ['Australia', 'Japan', 'Singapore', 'China', 'India', 'Germany', 'United Kingdom', 'United States']\n",
    "\n",
    "# query the df DataFrame and create the data\n",
    "data = df.query(f'location in {countries}')\n",
    "\n",
    "# make a new fig\n",
    "fig = go.Figure()\n",
    "\n",
    "# Now for each country in the data add the 5 variables\n",
    "for country in data.location.unique().tolist():\n",
    "    data = df.query(f'location == \"{country}\"')\n",
    "    fig.add_trace(go.Bar(x=data['date'], y=data['new_cases'], name=f'{country}-new_cases', visible='legendonly'))\n",
    "    fig.add_trace(go.Bar(x=data['date'], y=data['new_deaths'], name=f'{country}-new_deaths', visible='legendonly'))\n",
    "    fig.add_trace(go.Bar(x=data['date'], y=data['total_deaths'], name=f'{country}-total_deaths', visible='legendonly'))\n",
    "    fig.add_trace(go.Bar(x=data['date'], y=data['total_cases'], name=f'{country}-total_cases', visible='legendonly'))\n",
    "    fig.add_trace(go.Bar(x=data['date'], y=data['total_vaccinations'], name=f'{country}-total_vaccinations', visible='legendonly'))\n",
    "        \n",
    "# Change the bar mode\n",
    "fig.update_layout(title=f'Covid Data - (Select items from the legend on right, use the time slider below to zoom in)')\n",
    "fig.update_layout(\n",
    "    xaxis=dict(rangeslider=dict(visible=True)),\n",
    "    showlegend=True,\n",
    "    template=\"plotly_dark\"\n",
    ") \n",
    "\n",
    "# show the figure\n",
    "display(Markdown(\"# <font color='blue'> Interactive Bar Chart </font>\"))\n",
    "display(Markdown(\"- ### <font color='blue'> Turn data on and off using by clicking on the legend </font>\"))\n",
    "display(Markdown(\"- ### <font color='blue'> Zoom the time slice, by usingthe slicer that is below the bar chart </font>\"))\n",
    "fig.show()\n",
    "\n",
    "# write the file out\n",
    "fig.write_html('./COVID_BAR_CHART.html')"
   ]
  },
  {
   "cell_type": "code",
   "execution_count": null,
   "id": "cathedral-relaxation",
   "metadata": {},
   "outputs": [],
   "source": []
  }
 ],
 "metadata": {
  "kernelspec": {
   "display_name": "Python 3",
   "language": "python",
   "name": "python3"
  },
  "language_info": {
   "codemirror_mode": {
    "name": "ipython",
    "version": 3
   },
   "file_extension": ".py",
   "mimetype": "text/x-python",
   "name": "python",
   "nbconvert_exporter": "python",
   "pygments_lexer": "ipython3",
   "version": "3.8.3"
  }
 },
 "nbformat": 4,
 "nbformat_minor": 5
}
