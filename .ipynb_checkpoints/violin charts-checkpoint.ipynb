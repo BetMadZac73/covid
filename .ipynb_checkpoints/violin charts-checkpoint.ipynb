{
 "cells": [
  {
   "cell_type": "markdown",
   "id": "voluntary-module",
   "metadata": {},
   "source": [
    "# 1: Read in the file chop it and make a new one\n",
    "- Read the csv file\n",
    "- Create DataFrame df_violin, add in the Day column\n",
    "- Then for each Day that we are interested in pop into df1, get the subset of data, i.e. WBC0, CRP0, PCT0 for day 0\n",
    "- Rename the columns in df1 back to the names without day number WBC, CRP, PCT...\n",
    "- Then append that days data onto the df_violin dataframe with the added column for Day number\n",
    "- The data is appearing as stirngs instead of numbers, so convert each column to be numeric type or NaN\n",
    "- finally crate the DatFrame called df , simply because it's shorte variable name than df_violin"
   ]
  },
  {
   "cell_type": "code",
   "execution_count": null,
   "id": "grand-cyprus",
   "metadata": {},
   "outputs": [],
   "source": [
    "import pandas as pd\n",
    "# import datetime as dt\n",
    "import plotly.graph_objects as go\n",
    "# import numpy as np\n",
    "\n",
    "from pathlib import Path\n",
    "downloads = str(Path.home() / \"Downloads\")\n",
    "\n",
    "pd.set_option('display.max_columns', 200)\n",
    "\n",
    "# read the file\n",
    "df = pd.read_csv(f\"{downloads}/combinedmastersheet1stwavevsGUHadmissions.csv\")\n",
    "#df = pd.read_csv(f\"./combinedmastersheet1stwavevsGUHadmissions.csv\")\n",
    "\n",
    "df9 = df.copy()\n",
    "# create the df_violin Dataframe\n",
    "violin_cols = ['Wave', 'PtNo', 'Age', 'Gender', 'LengthofITUStay', 'Outcome','Day', 'WBC', 'CRP', 'PCT', 'Fib', 'Platelets', 'Ferritin']\n",
    "df_violin = pd.DataFrame(columns = violin_cols)\n",
    "\n",
    "# Get date for each day\n",
    "for i in [0, 3, 7, 10, 14, 21, 28]:\n",
    "    cols = ['Wave', 'PtNo', 'Age', 'Gender', 'LengthofITUStay', 'Outcome',]\n",
    "    # set the column names for the relvant day\n",
    "    for var in ['WBC', 'CRP', 'PCT', 'Fib', 'Platelets', 'Ferritin']:\n",
    "        cols.append(f'{var}{i}')\n",
    "    # get temporary df1 using those columns for the current day\n",
    "    df1 = df[cols]\n",
    "    # set the Day column value\n",
    "    df1['Day'] = i\n",
    "    # now rename all data columns in df1\n",
    "    for var in ['WBC', 'CRP', 'PCT', 'Fib', 'Platelets', 'Ferritin']:\n",
    "        df1.rename(columns={ f'{var}{i}' : f'{var}' }, inplace=True)\n",
    "    # append the df1 onto df_violin\n",
    "    df_violin = df_violin.append(df1)\n",
    "\n",
    "# set df to contain df_violin\n",
    "df = df_violin\n",
    "# change all fields to be numeric instead of string data\n",
    "for col in ['WBC', 'CRP', 'PCT', 'Fib', 'Platelets', 'Ferritin']:   #violin_cols:\n",
    "    df[col] = pd.to_numeric(df[col], errors='coerce')\n",
    "# Add text label to the df\n",
    "df['text'] = df.apply(lambda x: f\"Patient <b>{x['PtNo']}</b> <br>Age: <b>{x['Age']}</b> <br>Gender: <b>{x['Gender']}</b> <br>Outcome : <b>{x['Outcome']}</b>\", axis=1)"
   ]
  },
  {
   "cell_type": "markdown",
   "id": "intelligent-siemens",
   "metadata": {},
   "source": [
    "# Create Violin Chart (This is mixed wave 1 and wave 2)"
   ]
  },
  {
   "cell_type": "code",
   "execution_count": null,
   "id": "wrong-palmer",
   "metadata": {},
   "outputs": [],
   "source": [
    "with open('violin_mixed.html', 'w') as f:\n",
    "\n",
    "    for var in ['WBC', 'CRP', 'PCT', 'Fib', 'Platelets', 'Ferritin']:\n",
    "        fig = go.Figure()\n",
    "        for day in [0, 3, 7, 10, 14, 21, 28]:\n",
    "            fig.add_trace(go.Violin(x=df['Day'][df['Day'] == day],\n",
    "                                 y=df[var][df['Day'] == day],\n",
    "                                    hovertext=df['text'],\n",
    "                                    hovertemplate = '%{hovertext}',\n",
    "                                 box_visible=True,\n",
    "                                    points='all',\n",
    "                                 name = f\"Day-{day}\",\n",
    "                                 meanline_visible=True, opacity=0.6))\n",
    "\n",
    "        fig.update_layout(title_text=f\"{var} Combined Wave Violin Chart\",\n",
    "                              xaxis_title=\"Day\",\n",
    "                              yaxis_title=f\"{var} - value\",\n",
    "                          yaxis_zeroline=False)\n",
    "        fig.show()\n",
    "        f.write(fig.to_html(full_html=False, include_plotlyjs='cdn'))\n"
   ]
  },
  {
   "cell_type": "markdown",
   "id": "dangerous-boston",
   "metadata": {},
   "source": [
    "# Create side by side Violin charts for the Wave 1 and Wave 2"
   ]
  },
  {
   "cell_type": "code",
   "execution_count": null,
   "id": "geographic-understanding",
   "metadata": {
    "scrolled": true
   },
   "outputs": [],
   "source": [
    "with open('violin_side_by_side.html', 'w') as f:\n",
    "    for var in ['WBC', 'CRP', 'PCT', 'Fib', 'Platelets', 'Ferritin']:\n",
    "        fig = go.Figure()\n",
    "\n",
    "        fig.add_trace(go.Violin(x=df['Day'][ df['Wave'] == 1 ],\n",
    "                                y=df[var][ df['Wave'] == 1 ],\n",
    "                                    hovertext=df['text'][ df['Wave'] == 1 ],\n",
    "                                    hovertemplate = '%{hovertext}',\n",
    "                                legendgroup='1', scalegroup='1', name='Wave-1',\n",
    "                                points='all',\n",
    "                                line_color='blue')\n",
    "                     )\n",
    "        fig.add_trace(go.Violin(x=df['Day'][ df['Wave'] == 2 ],\n",
    "                                y=df[var][ df['Wave'] == 2 ],\n",
    "                                    hovertext=df['text'][ df['Wave'] == 2 ],\n",
    "                                    hovertemplate = '%{hovertext}',\n",
    "                                legendgroup='2', scalegroup='2', name='Wave-2',\n",
    "                                points='all',\n",
    "                                line_color='orange')\n",
    "                     )\n",
    "\n",
    "        fig.update_traces(box_visible=True, meanline_visible=True)\n",
    "        fig.update_layout(title_text=f\"{var} Side by Side Violin Chart\",\n",
    "                              xaxis_title=\"Day\",\n",
    "                              yaxis_title=f\"{var} - value\",\n",
    "                          violinmode='group')\n",
    "        fig.show()\n",
    "        f.write(fig.to_html(full_html=False, include_plotlyjs='cdn'))"
   ]
  },
  {
   "cell_type": "markdown",
   "id": "fitted-enclosure",
   "metadata": {},
   "source": [
    "# Create the split Violin Charts to show Wave1 (left) and Wave2 (right)"
   ]
  },
  {
   "cell_type": "code",
   "execution_count": null,
   "id": "accurate-connecticut",
   "metadata": {
    "scrolled": true
   },
   "outputs": [],
   "source": [
    "with open('violin_split.html', 'w') as f:\n",
    "    for var in ['WBC', 'CRP', 'PCT', 'Fib', 'Platelets', 'Ferritin']:\n",
    "        fig = go.Figure()\n",
    "\n",
    "        fig.add_trace(go.Violin(x=df['Day'][ df['Wave'] == 1 ],\n",
    "                                y=df[var][ df['Wave'] == 1 ],\n",
    "                                    hovertext=df['text'][ df['Wave'] == 1 ],\n",
    "                                    hovertemplate = '%{hovertext}',\n",
    "                                legendgroup='Wave 1', scalegroup='Wave 1', name='Wave 1',\n",
    "                                side='negative', box_visible=True,\n",
    "                                points='all',\n",
    "                                line_color='blue')\n",
    "                     )\n",
    "        fig.add_trace(go.Violin(x=df['Day'][ df['Wave'] == 2 ],\n",
    "                                y=df[var][ df['Wave'] == 2 ],\n",
    "                                    hovertext=df['text'][ df['Wave'] == 1 ],\n",
    "                                    hovertemplate = '%{hovertext}',\n",
    "                                legendgroup='Wave 2', scalegroup='Wave 2', name='Wave 2',\n",
    "                                side='positive', box_visible=True,\n",
    "                                points='all',\n",
    "                                line_color='orange')\n",
    "                     )\n",
    "        fig.update_traces(meanline_visible=True)\n",
    "        fig.update_layout(title_text=f\"{var} Split Violin Chart\",\n",
    "                              xaxis_title=\"Day\",\n",
    "                              yaxis_title=f\"{var} - value\",\n",
    "                              violingap=0, violinmode='overlay')\n",
    "        fig.show()\n",
    "        f.write(fig.to_html(full_html=False, include_plotlyjs='cdn'))"
   ]
  },
  {
   "cell_type": "markdown",
   "id": "killing-florida",
   "metadata": {},
   "source": [
    "# Write out the vertical data"
   ]
  },
  {
   "cell_type": "code",
   "execution_count": null,
   "id": "adjustable-heater",
   "metadata": {},
   "outputs": [],
   "source": [
    "#df.to_csv(f'{downloads}/vertical_data.csv', index=False)\n",
    "df.to_csv(f'./vertical_data.csv', index=False)"
   ]
  },
  {
   "cell_type": "code",
   "execution_count": null,
   "id": "normal-australia",
   "metadata": {},
   "outputs": [],
   "source": []
  }
 ],
 "metadata": {
  "kernelspec": {
   "display_name": "Python 3",
   "language": "python",
   "name": "python3"
  },
  "language_info": {
   "codemirror_mode": {
    "name": "ipython",
    "version": 3
   },
   "file_extension": ".py",
   "mimetype": "text/x-python",
   "name": "python",
   "nbconvert_exporter": "python",
   "pygments_lexer": "ipython3",
   "version": "3.8.3"
  }
 },
 "nbformat": 4,
 "nbformat_minor": 5
}
